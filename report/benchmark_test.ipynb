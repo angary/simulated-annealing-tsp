{
 "cells": [
  {
   "cell_type": "code",
   "execution_count": 221,
   "metadata": {},
   "outputs": [
    {
     "name": "stdout",
     "output_type": "stream",
     "text": [
      "/home/gyra/github/simulated-annealing-tsp/src\n"
     ]
    }
   ],
   "source": [
    "cd ../src"
   ]
  },
  {
   "cell_type": "code",
   "execution_count": 222,
   "metadata": {},
   "outputs": [],
   "source": [
    "import numpy as np\n",
    "import os\n",
    "import pandas as pd\n",
    "\n",
    "from matplotlib import pyplot as plt"
   ]
  },
  {
   "cell_type": "code",
   "execution_count": 223,
   "metadata": {},
   "outputs": [],
   "source": [
    "plt.rcParams[\"font.family\"] = \"serif\"\n",
    "plt.rcParams[\"mathtext.fontset\"] = \"dejavuserif\""
   ]
  },
  {
   "cell_type": "code",
   "execution_count": 224,
   "metadata": {},
   "outputs": [],
   "source": [
    "results = []\n",
    "for f in os.listdir(\"../results\"):\n",
    "    if f.endswith(\".csv\") and not f.startswith(\"rand\"):\n",
    "        df = pd.read_csv(f\"../results/{f}\", header=0)\n",
    "        results.append(df)\n",
    "df = pd.concat(results)\n",
    "grdy_df = df.loc[df[\"cooling_rate\"] == 0]\n",
    "sa_df = df.loc[df[\"cooling_rate\"] != 0]"
   ]
  },
  {
   "cell_type": "code",
   "execution_count": 225,
   "metadata": {},
   "outputs": [
    {
     "name": "stdout",
     "output_type": "stream",
     "text": [
      "city_counts = [22, 48, 52, 100, 130, 150, 225, 280, 442, 1002, 2392]\n",
      "[0.0024682164192199206, 0.012807893753051705, 0.016415894031524617, 0.07431864738464351, 0.1327338576316833, 0.19227926731109615, 0.44677711725234986, 0.7886504530906677, 2.2898600816726686, 16.68896359205246, 115.93260247707367]\n",
      "[0.0024676203727721697, 0.01417863368988032, 0.017613625526428176, 0.08540129065513606, 0.1515556931495666, 0.20213857293128967, 0.4643296182155609, 0.8878506898880005, 2.4419980347156525, 18.06702169775963, 50.41117012500763]\n"
     ]
    }
   ],
   "source": [
    "city_counts = sorted(df[\"city_count\"].unique())\n",
    "print(f\"{city_counts = }\")\n",
    "\n",
    "grdy_opts, grdy_iters, grdy_time, sa_opts, sa_iters, sa_time = [], [], [], [], [], []\n",
    "for city_count in city_counts:\n",
    "    grdy = grdy_df.loc[grdy_df[\"city_count\"] == city_count]\n",
    "    sa = sa_df.loc[sa_df[\"city_count\"] == city_count]\n",
    "    grdy_opts.append(grdy[\"optimality\"].mean())\n",
    "    grdy_iters.append(grdy[\"iterations\"].mean())\n",
    "    grdy_time.append(grdy[\"duration\"].mean())\n",
    "    sa_opts.append(sa[\"optimality\"].mean())\n",
    "    sa_iters.append(sa[\"iterations\"].mean())\n",
    "    sa_time.append(sa[\"duration\"].mean())\n",
    "\n",
    "print([round(i, 3) for i in grdy_opts])\n",
    "# print(grdy_iters)\n",
    "# print(grdy_time)\n",
    "print([round(i, 3) for i in sa_opts])\n",
    "# print(sa_iters)\n",
    "# print(sa_time)\n",
    "# [0.99, 0.944, 0.900, 0.9016, 0.9116, 0.8835, 0.8917, 0.879, 0.892, 0.8752634460081119]\n",
    "\n"
   ]
  }
 ],
 "metadata": {
  "interpreter": {
   "hash": "8a94588eda9d64d9e9a351ab8144e55b1fabf5113b54e67dd26a8c27df0381b3"
  },
  "kernelspec": {
   "display_name": "Python 3.10.0 64-bit",
   "language": "python",
   "name": "python3"
  },
  "language_info": {
   "codemirror_mode": {
    "name": "ipython",
    "version": 3
   },
   "file_extension": ".py",
   "mimetype": "text/x-python",
   "name": "python",
   "nbconvert_exporter": "python",
   "pygments_lexer": "ipython3",
   "version": "3.9.7"
  },
  "orig_nbformat": 4
 },
 "nbformat": 4,
 "nbformat_minor": 2
}
