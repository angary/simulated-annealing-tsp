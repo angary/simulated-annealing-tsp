{
 "cells": [
  {
   "cell_type": "code",
   "execution_count": null,
   "metadata": {},
   "outputs": [],
   "source": [
    "cd ../src"
   ]
  },
  {
   "cell_type": "code",
   "execution_count": null,
   "metadata": {},
   "outputs": [],
   "source": [
    "import math\n",
    "import numpy as np\n",
    "import os\n",
    "import pandas as pd\n",
    "\n",
    "from matplotlib import pyplot as plt\n",
    "\n",
    "from config import \\\n",
    "    TEMPERATURES, COOLING_RATES, \\\n",
    "    CONST_COOLING_RATE, CONST_TEMPERATURE\n"
   ]
  },
  {
   "cell_type": "code",
   "execution_count": null,
   "metadata": {},
   "outputs": [],
   "source": [
    "\n",
    "plt.rcParams[\"font.family\"] = \"serif\"\n",
    "plt.rcParams[\"mathtext.fontset\"] = \"dejavuserif\""
   ]
  },
  {
   "cell_type": "code",
   "execution_count": null,
   "metadata": {},
   "outputs": [],
   "source": [
    "results = []\n",
    "for f in os.listdir(\"../results\"):\n",
    "    if f.endswith(\".csv\") and f.startswith(\"rand\"):\n",
    "        df = pd.read_csv(f\"../results/{f}\", header=0)\n",
    "        results.append(df)\n",
    "df = pd.concat(results)\n",
    "cr_df = df.loc[df[\"temperature\"] == CONST_TEMPERATURE]\n",
    "t_df = df.loc[df[\"cooling_rate\"] == CONST_COOLING_RATE]\n",
    "t_df.head()"
   ]
  },
  {
   "cell_type": "code",
   "execution_count": null,
   "metadata": {},
   "outputs": [],
   "source": [
    "def plot_result(\n",
    "    sa_metric_name: str,\n",
    "    cities_metric_name: str,\n",
    "    dependent_var: str,\n",
    "    relative_scale: bool = False,\n",
    "    relative_to_base: bool = False,\n",
    "    yscale: str = \"linear\"\n",
    ") -> None:\n",
    "    data_frame = t_df if sa_metric_name == \"temperature\" else cr_df\n",
    "    sa_metrics = TEMPERATURES if sa_metric_name == \"temperature\" else COOLING_RATES\n",
    "    cities_metrics = sorted(data_frame[cities_metric_name].unique())\n",
    "    \n",
    "    # Loop through each of the temperatures or cooling rates\n",
    "    results = []\n",
    "    for sa_metric in sa_metrics:\n",
    "        curr_data_frame = data_frame.loc[data_frame[sa_metric_name] == sa_metric]\n",
    "\n",
    "        # Loop through the city count or average city distance difference\n",
    "        result = []\n",
    "        for cities_metric in cities_metrics:\n",
    "            vals = curr_data_frame.loc[curr_data_frame[cities_metric_name] == cities_metric]\n",
    "            result.append(vals[dependent_var].mean())\n",
    "        \n",
    "        results.append(result)\n",
    "\n",
    "    # If we want to rescale the y axis to be relative to the average\n",
    "    if relative_scale or relative_to_base:\n",
    "        n = len(sa_metrics)\n",
    "        m = len(cities_metrics)\n",
    "        weighted_vals = []\n",
    "        for i in range(m):\n",
    "            # Find the values\n",
    "            vals = [results[j][i] for j in range(n)]\n",
    "            avg_val = sum(vals) / len(vals)\n",
    "            for j in range(n):\n",
    "                results[j][i] /= avg_val\n",
    "            \n",
    "            weighted_vals.append(np.average([(1 / results[j][i]) * j for j in range(n)]))\n",
    "\n",
    "        print(weighted_vals)\n",
    "    if relative_to_base:\n",
    "        results = np.array(results).T\n",
    "        for i, result in enumerate(results):\n",
    "            results[i] = 1 / (result *  (1 / result[0]))\n",
    "        results = results.T\n",
    "        for result in results:\n",
    "            print([round(i, 3) for i in result])\n",
    "\n",
    "    # Plot everything\n",
    "    label_name = \" \".join([s.capitalize() for s in sa_metric_name.split(\"_\")])\n",
    "    for i, result in enumerate(results):\n",
    "        print(f\"{sa_metrics[i]} avg relative: {np.average(result)}\")\n",
    "        plt.plot(cities_metrics, result, label=f\"{label_name}: {sa_metrics[i]}\")\n",
    "    \n",
    "\n",
    "\n",
    "    # Add labels, scaling, and save image\n",
    "    plt.xlabel(\" \".join([s.capitalize() for s in cities_metric_name.split(\"_\")]))\n",
    "    ylabel = dependent_var.capitalize()\n",
    "    if relative_scale:\n",
    "        ylabel = f\"Relative {ylabel}\"\n",
    "    elif relative_to_base:\n",
    "        ylabel = \"Relative Optimality\"\n",
    "    plt.ylabel(ylabel)\n",
    "    plt.xscale(\"log\")\n",
    "    plt.yscale(yscale)\n",
    "    plt.legend()\n",
    "\n",
    "    # Save image\n",
    "    img_name = f\"rand_{sa_metric_name}_{cities_metric_name}_{dependent_var}\"\n",
    "    if relative_scale:\n",
    "        img_name += \"_relative\"\n",
    "    elif relative_to_base:\n",
    "        img_name += \"_relative-to-base\"\n",
    "    plt.savefig(f\"../report/images/{img_name}.jpg\", dpi=144)\n",
    "    \n",
    "    plt.show()\n"
   ]
  },
  {
   "cell_type": "code",
   "execution_count": null,
   "metadata": {},
   "outputs": [],
   "source": [
    "plot_result(\"cooling_rate\", \"city_count\", \"distance\", relative_to_base=True, yscale=\"linear\")"
   ]
  },
  {
   "cell_type": "code",
   "execution_count": null,
   "metadata": {},
   "outputs": [],
   "source": [
    "plot_result(\"cooling_rate\", \"city_count\", \"iterations\", relative_scale=True, yscale=\"log\")"
   ]
  },
  {
   "cell_type": "code",
   "execution_count": null,
   "metadata": {},
   "outputs": [],
   "source": [
    "plot_result(\"temperature\", \"avg_dist_diff\", \"distance\", relative_scale=False)"
   ]
  },
  {
   "cell_type": "code",
   "execution_count": null,
   "metadata": {},
   "outputs": [],
   "source": [
    "plot_result(\"temperature\", \"avg_dist_diff\", \"iterations\", relative_scale=False)"
   ]
  }
 ],
 "metadata": {
  "interpreter": {
   "hash": "f9f85f796d01129d0dd105a088854619f454435301f6ffec2fea96ecbd9be4ac"
  },
  "kernelspec": {
   "display_name": "Python 3.9.7 64-bit",
   "name": "python3"
  },
  "language_info": {
   "codemirror_mode": {
    "name": "ipython",
    "version": 3
   },
   "file_extension": ".py",
   "mimetype": "text/x-python",
   "name": "python",
   "nbconvert_exporter": "python",
   "pygments_lexer": "ipython3",
   "version": "3.9.7"
  },
  "orig_nbformat": 4
 },
 "nbformat": 4,
 "nbformat_minor": 2
}
