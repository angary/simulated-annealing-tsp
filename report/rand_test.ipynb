{
 "cells": [
  {
   "cell_type": "code",
   "execution_count": null,
   "metadata": {},
   "outputs": [],
   "source": [
    "cd ../src"
   ]
  },
  {
   "cell_type": "code",
   "execution_count": null,
   "metadata": {},
   "outputs": [],
   "source": [
    "import numpy as np\n",
    "import os\n",
    "import pandas as pd\n",
    "\n",
    "from matplotlib import pyplot as plt\n",
    "\n",
    "from config import \\\n",
    "    RAND_TEMPERATURES, RAND_COOLING_RATES, \\\n",
    "    RAND_CONST_CITY_COUNT, RAND_CONST_CITY_DIST, \\\n",
    "    RAND_CONST_COOLING_RATE, RAND_CONST_TEMPERATURE\n",
    "\n",
    "plt.rcParams[\"font.family\"] = \"serif\"\n",
    "plt.rcParams[\"mathtext.fontset\"] = \"dejavuserif\""
   ]
  },
  {
   "cell_type": "code",
   "execution_count": null,
   "metadata": {},
   "outputs": [],
   "source": [
    "results = []\n",
    "for f in os.listdir(\"../results\"):\n",
    "    if f.endswith(\".csv\") and f.startswith(\"rand\"):\n",
    "        df = pd.read_csv(f\"../results/{f}\", header=0)\n",
    "        results.append(df)\n",
    "df = pd.concat(results)\n",
    "df.head()\n",
    "cr_df = df.loc[df[\"temperature\"] == RAND_CONST_TEMPERATURE]\n",
    "t_df = df.loc[df[\"cooling_rate\"] == RAND_CONST_COOLING_RATE]\n",
    "print(RAND_CONST_COOLING_RATE)"
   ]
  },
  {
   "cell_type": "code",
   "execution_count": null,
   "metadata": {},
   "outputs": [],
   "source": [
    "city_counts = sorted(cr_df[\"city_count\"].unique())\n",
    "print(f\"{city_counts = }\")\n",
    "\n",
    "# Plot the highest temperature\n",
    "cr_dists = []\n",
    "for cr in RAND_COOLING_RATES:\n",
    "    curr_cr_df = cr_df.loc[cr_df[\"cooling_rate\"] == cr]\n",
    "    results = []\n",
    "    for city_count in city_counts:\n",
    "        dist = curr_cr_df.loc[curr_cr_df[\"city_count\"] == city_count][\"solver_dist\"]\n",
    "        results.append(dist.mean())\n",
    "    cr_dists.append(np.array(results))\n",
    "\n",
    "\n",
    "for i, dist in enumerate(cr_dists):\n",
    "    plt.plot(city_counts, dist, label=f\"Cooling rate: {RAND_COOLING_RATES[i]}\")\n",
    "\n",
    "plt.xlabel(\"City Count\")\n",
    "plt.ylabel(\"Total Distance\")\n",
    "plt.legend()\n",
    "plt.savefig(\"../report/images/rand_distance_city_count.jpg\")\n",
    "plt.show()"
   ]
  },
  {
   "cell_type": "code",
   "execution_count": null,
   "metadata": {},
   "outputs": [],
   "source": [
    "# Plot the highest temperature\n",
    "cr_iterations = []\n",
    "for cr in RAND_COOLING_RATES:\n",
    "    curr_cr_df = cr_df.loc[cr_df[\"cooling_rate\"] == cr]\n",
    "    results = []\n",
    "    for city_count in city_counts:\n",
    "        iterations = curr_cr_df.loc[curr_cr_df[\"city_count\"] == city_count][\"iterations\"]\n",
    "        results.append(iterations.mean())\n",
    "    cr_iterations.append(np.array(results))\n",
    "\n",
    "\n",
    "for i, avg_iteration in enumerate(cr_iterations):\n",
    "    plt.plot(city_counts, avg_iteration, label=f\"Cooling rate: {RAND_COOLING_RATES[i]}\")\n",
    "\n",
    "plt.xlabel(\"City Count\")\n",
    "plt.ylabel(\"Average Iterations\")\n",
    "plt.yscale(\"log\")\n",
    "plt.legend()\n",
    "# plt.savefig(\"../report/images/rand_iterations_city_count.jpg\")\n",
    "plt.show()"
   ]
  },
  {
   "cell_type": "code",
   "execution_count": null,
   "metadata": {},
   "outputs": [],
   "source": [
    "#  Show optimality for cooling rate\n",
    "for city_count in city_counts:\n",
    "    city_df = cr_df.loc[cr_df[\"city_count\"] == city_count]\n",
    "    cr_dfs = [city_df.loc[city_df[\"cooling_rate\"] == cr] for cr in RAND_COOLING_RATES]\n",
    "    dists = [cr_df[\"solver_dist\"] for cr_df in cr_dfs]\n",
    "    print([dist.std() / dist.mean() for dist in dists])\n",
    "\n",
    "    plt.boxplot(dists, labels=RAND_COOLING_RATES)\n",
    "    plt.xlabel(\"Cooling Rate\")\n",
    "    plt.ylabel(\"Distance (lower is better)\")\n",
    "    plt.title(f\"City Count = {city_count}\")\n",
    "    # plt.savefig(f\"../report/images/rand_dist_{city_count}_cr.jpg\")\n",
    "    plt.show()"
   ]
  },
  {
   "cell_type": "code",
   "execution_count": null,
   "metadata": {},
   "outputs": [],
   "source": [
    "avg_city_dists = sorted(t_df[\"avg_city_dist\"].unique())\n",
    "print(f\"{avg_city_dists = }\")\n",
    "\n",
    "# Plot the highest temperature\n",
    "t_dists = []\n",
    "for t in RAND_TEMPERATURES:\n",
    "    curr_t_df = t_df.loc[t_df[\"temperature\"] == t]\n",
    "    results = []\n",
    "    for avg_city_dist in avg_city_dists:\n",
    "        dist = curr_t_df.loc[curr_t_df[\"avg_city_dist\"] == avg_city_dist][\"solver_dist\"]\n",
    "        results.append(dist.mean() / avg_city_dist)\n",
    "    t_dists.append(np.array(results))\n",
    "\n",
    "\n",
    "for i, dist in enumerate(t_dists):\n",
    "    plt.plot(avg_city_dists, dist, label=f\"Temperature: {RAND_TEMPERATURES[i]}\")\n",
    "\n",
    "plt.xlabel(\"Average City Distance\")\n",
    "plt.ylabel(\"Total Distance (Lower is better)\")\n",
    "plt.xscale(\"log\")\n",
    "plt.legend()\n",
    "plt.savefig(\"../report/images/rand_distance_city_dist.jpg\")\n",
    "plt.show()"
   ]
  },
  {
   "cell_type": "code",
   "execution_count": null,
   "metadata": {},
   "outputs": [],
   "source": [
    "avg_city_dists = sorted(t_df[\"avg_city_dist\"].unique())\n",
    "print(f\"{avg_city_dists = }\")\n",
    "\n",
    "# Plot the highest temperature\n",
    "t_dists = []\n",
    "for t in RAND_TEMPERATURES:\n",
    "    curr_t_df = t_df.loc[t_df[\"temperature\"] == t]\n",
    "    results = []\n",
    "    for avg_city_dist in avg_city_dists:\n",
    "        dist = curr_t_df.loc[curr_t_df[\"avg_city_dist\"] == avg_city_dist][\"iterations\"]\n",
    "        results.append(dist.mean())\n",
    "    t_dists.append(np.array(results))\n",
    "\n",
    "\n",
    "for i, dist in enumerate(t_dists):\n",
    "    plt.plot(avg_city_dists, dist, label=f\"Temperature: {RAND_TEMPERATURES[i]}\")\n",
    "\n",
    "plt.xlabel(\"Average City Distance\")\n",
    "plt.ylabel(\"Iterations (Lower is better)\")\n",
    "plt.xscale(\"log\")\n",
    "plt.legend()\n",
    "plt.savefig(\"../report/images/rand_distance_city_dist.jpg\")\n",
    "plt.show()"
   ]
  }
 ],
 "metadata": {
  "interpreter": {
   "hash": "397704579725e15f5c7cb49fe5f0341eb7531c82d19f2c29d197e8b64ab5776b"
  },
  "kernelspec": {
   "display_name": "Python 3.9.7 64-bit",
   "language": "python",
   "name": "python3"
  },
  "language_info": {
   "codemirror_mode": {
    "name": "ipython",
    "version": 3
   },
   "file_extension": ".py",
   "mimetype": "text/x-python",
   "name": "python",
   "nbconvert_exporter": "python",
   "pygments_lexer": "ipython3",
   "version": "3.9.7"
  },
  "orig_nbformat": 4
 },
 "nbformat": 4,
 "nbformat_minor": 2
}
