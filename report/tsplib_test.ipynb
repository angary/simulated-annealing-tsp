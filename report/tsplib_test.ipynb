{
 "cells": [
  {
   "cell_type": "code",
   "execution_count": null,
   "metadata": {},
   "outputs": [],
   "source": [
    "cd ../src"
   ]
  },
  {
   "cell_type": "code",
   "execution_count": null,
   "metadata": {},
   "outputs": [],
   "source": [
    "import numpy as np\n",
    "import os\n",
    "import pandas as pd\n",
    "\n",
    "from matplotlib import pyplot as plt\n",
    "\n",
    "\n",
    "from config import TSPLIB_TEMPERATURES, TSPLIB_COOLING_RATES\n",
    "\n",
    "\n",
    "plt.rcParams[\"font.family\"] = \"serif\"\n",
    "plt.rcParams[\"mathtext.fontset\"] = \"dejavuserif\""
   ]
  },
  {
   "cell_type": "code",
   "execution_count": null,
   "metadata": {},
   "outputs": [],
   "source": [
    "results = []\n",
    "for f in os.listdir(\"../results\"):\n",
    "    if f.endswith(\".csv\") and not f.startswith(\"rand\"):\n",
    "        df = pd.read_csv(f\"../results/{f}\", header=0)\n",
    "        results.append(df)\n",
    "df = pd.concat(results)\n",
    "grdy_df = df.loc[df[\"temperature\"] == 0]\n",
    "cr_dfs = [df.loc[df[\"cooling_rate\"] == r] for r in TSPLIB_COOLING_RATES]\n",
    "t_dfs = [df.loc[df[\"temperature\"] == t] for t in TSPLIB_TEMPERATURES]\n",
    "cr_dfs[2].head(5)"
   ]
  },
  {
   "cell_type": "code",
   "execution_count": null,
   "metadata": {},
   "outputs": [],
   "source": [
    "# Loop through the results of each city\n",
    "city_counts = sorted(df[\"city_count\"].unique())\n",
    "print(f\"{city_counts =    }\")\n",
    "cities = []\n",
    "for city_count in city_counts:\n",
    "    city_details = df.loc[df[\"city_count\"] == city_count]\n",
    "    cities.append(df.loc[df[\"city_count\"] == city_count])\n",
    "\n",
    "\n",
    "\n",
    "distances = [round(city[\"avg_city_dist\"].unique()[0]) for city in cities]\n",
    "iterations = [city[\"iterations\"] for city in cities]\n",
    "optimalities = [city[\"optimality\"] for city in cities]\n",
    "\n",
    "print(\"avg_city_dist:  \", distances)\n",
    "print(\"avg_iterations: \", [round(city.mean()) for city in iterations])\n",
    "print(\"avg_optimality: \", [round(city.mean(), 4) for city in optimalities])\n",
    "print(\"iterations_std: \", [round(np.std(city), 4) for city in optimalities])"
   ]
  },
  {
   "cell_type": "code",
   "execution_count": null,
   "metadata": {},
   "outputs": [],
   "source": [
    "city_counts = sorted(df[\"city_count\"].unique())\n",
    "print(f\"{city_counts = }\")\n",
    "\n",
    "# Plot the greedy data\n",
    "grdy_data = [grdy_df.loc[grdy_df[\"city_count\"] == city_count][[\"optimality\"]] for city_count in city_counts]\n",
    "grdy_data = [x.mean() for x in grdy_data]\n",
    "plt.plot(city_counts, grdy_data, marker=\"o\", label=\"Cooling rate: 0\")\n",
    "\n",
    "# Plot the highest temperature\n",
    "sa_df = cr_dfs[-1]\n",
    "sa_data = [sa_df.loc[sa_df[\"city_count\"] == city_count][[\"optimality\"]] for city_count in city_counts]\n",
    "sa_data = [x.mean() for x in sa_data]\n",
    "plt.plot(city_counts, sa_data, marker=\"o\", label=f\"Cooling rate: {TSPLIB_COOLING_RATES[-1]}\")\n",
    "\n",
    "plt.xlabel(\"City Count\")\n",
    "plt.ylabel(\"Optimality\")\n",
    "plt.legend()\n",
    "plt.savefig(\"../report/images/tsplib_optimality_city_count.jpg\")\n",
    "plt.show()"
   ]
  },
  {
   "cell_type": "code",
   "execution_count": null,
   "metadata": {},
   "outputs": [],
   "source": [
    "#  Show optimality for cooling rate\n",
    "optimalities = [grdy_df[\"optimality\"]] + [sa_df[\"optimality\"] for sa_df in cr_dfs]\n",
    "\n",
    "cooling_rates = [0] + [cr for cr in TSPLIB_COOLING_RATES]\n",
    "plt.boxplot(optimalities, labels=cooling_rates)\n",
    "\n",
    "plt.xlabel(\"Cooling Rate\")\n",
    "plt.ylabel(\"Optimality\")\n",
    "plt.savefig(\"../report/images/tsplib_optimality_cooling_rate.jpg\")\n",
    "plt.show()"
   ]
  },
  {
   "cell_type": "code",
   "execution_count": null,
   "metadata": {},
   "outputs": [],
   "source": [
    "# Comparison of cooling rates\n",
    "\n",
    "# Find anverage iterations\n",
    "iterations = [grdy_df[\"iterations\"]] + [sa_df[\"iterations\"] for sa_df in cr_dfs]\n",
    "\n",
    "print(\"mean:       \", [optimality.mean().round(4) for optimality in optimalities])\n",
    "print(\"std:        \", [optimality.std().round(4) for optimality in optimalities])\n",
    "print(\"iterations: \", [iteration.mean().round() for iteration in iterations])"
   ]
  },
  {
   "cell_type": "code",
   "execution_count": null,
   "metadata": {},
   "outputs": [],
   "source": [
    "city_dists = sorted(df[\"avg_city_dist\"].unique())\n",
    "print(f\"{city_dists = }\")\n",
    "\n",
    "# Plot the greedy data\n",
    "grdy_data = [grdy_df.loc[grdy_df[\"avg_city_dist\"] == city_dist][[\"optimality\"]] for city_dist in city_dists]\n",
    "grdy_data = [x.mean() for x in grdy_data]\n",
    "plt.plot(city_dists, grdy_data, marker=\"o\", label=\"Temperature: 0\")\n",
    "\n",
    "# Plot the highest temperature\n",
    "sa_df = t_dfs[-1]\n",
    "sa_data = [sa_df.loc[sa_df[\"avg_city_dist\"] == city_dist][[\"optimality\"]] for city_dist in city_dists]\n",
    "sa_data = [x.mean() for x in sa_data]\n",
    "plt.plot(city_dists, sa_data, marker=\"o\", label=f\"Temperature: {TSPLIB_TEMPERATURES[-1]}\")\n",
    "\n",
    "plt.xlabel(\"Average City Distance\")\n",
    "plt.ylabel(\"Optimality\")\n",
    "plt.legend()\n",
    "plt.savefig(\"../report/images/tsplib_optimality_city_dist.jpg\")\n",
    "plt.show()"
   ]
  },
  {
   "cell_type": "code",
   "execution_count": null,
   "metadata": {},
   "outputs": [],
   "source": [
    "#  Show optimality\n",
    "optimalities = [grdy_df[\"optimality\"]] + [t_df[\"optimality\"] for t_df in t_dfs]\n",
    "\n",
    "TSPLIB_TEMPERATURES = [0] + [t for t in TSPLIB_TEMPERATURES]\n",
    "plt.boxplot(optimalities, labels=TSPLIB_TEMPERATURES)\n",
    "\n",
    "plt.xlabel(\"Temperature\")\n",
    "plt.ylabel(\"Optimality\")\n",
    "plt.savefig(\"../report/images/tsplib_optimality_temperature.jpg\")\n",
    "plt.show()"
   ]
  },
  {
   "cell_type": "code",
   "execution_count": null,
   "metadata": {},
   "outputs": [],
   "source": [
    "iterations = [grdy_df[\"iterations\"]] + [t_df[\"iterations\"] for t_df in t_dfs]\n",
    "\n",
    "print(\"mean:       \", [optimality.mean().round(4) for optimality in optimalities])\n",
    "print(\"std:        \", [optimality.std().round(4) for optimality in optimalities])\n",
    "print(\"iterations: \", [iteration.mean().round() for iteration in iterations])"
   ]
  }
 ],
 "metadata": {
  "interpreter": {
   "hash": "397704579725e15f5c7cb49fe5f0341eb7531c82d19f2c29d197e8b64ab5776b"
  },
  "kernelspec": {
   "display_name": "Python 3.9.7 64-bit",
   "name": "python3"
  },
  "language_info": {
   "codemirror_mode": {
    "name": "ipython",
    "version": 3
   },
   "file_extension": ".py",
   "mimetype": "text/x-python",
   "name": "python",
   "nbconvert_exporter": "python",
   "pygments_lexer": "ipython3",
   "version": "3.9.7"
  },
  "orig_nbformat": 4
 },
 "nbformat": 4,
 "nbformat_minor": 2
}
